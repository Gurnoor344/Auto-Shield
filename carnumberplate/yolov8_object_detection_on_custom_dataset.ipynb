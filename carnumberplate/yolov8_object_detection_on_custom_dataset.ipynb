{
 "cells": [
  {
   "cell_type": "code",
   "execution_count": 1,
   "metadata": {
    "colab": {
     "base_uri": "https://localhost:8080/"
    },
    "executionInfo": {
     "elapsed": 2,
     "status": "ok",
     "timestamp": 1680486210312,
     "user": {
      "displayName": "Freedom Tech",
      "userId": "03870511654783100627"
     },
     "user_tz": -330
    },
    "id": "CjpPg4mGKc1v",
    "outputId": "1c05430b-239f-47f7-f245-625a4b2a1633"
   },
   "outputs": [
    {
     "name": "stdout",
     "output_type": "stream",
     "text": [
      "C:\\Users\\Akshit Garg\\Desktop\\carnumberplate\n"
     ]
    }
   ],
   "source": [
    "import os\n",
    "HOME = os.getcwd()\n",
    "print(HOME)"
   ]
  },
  {
   "cell_type": "code",
   "execution_count": 4,
   "metadata": {
    "colab": {
     "base_uri": "https://localhost:8080/"
    },
    "executionInfo": {
     "elapsed": 13719,
     "status": "ok",
     "timestamp": 1680486228593,
     "user": {
      "displayName": "Freedom Tech",
      "userId": "03870511654783100627"
     },
     "user_tz": -330
    },
    "id": "tdSMcABDNKW-",
    "outputId": "ac19ae99-e76c-4e4e-fd4b-d7f2f460490c"
   },
   "outputs": [
    {
     "name": "stdout",
     "output_type": "stream",
     "text": [
      "Ultralytics YOLOv8.2.16  Python-3.11.7 torch-2.3.0+cpu CPU (AMD Ryzen 5 5625U with Radeon Graphics)\n",
      "Setup complete  (12 CPUs, 15.3 GB RAM, 147.0/183.1 GB disk)\n"
     ]
    }
   ],
   "source": [
    "# Pip install method (recommended)\n",
    "\n",
    "!pip install ultralytics==8.0.20\n",
    "\n",
    "from IPython import display\n",
    "display.clear_output()\n",
    "\n",
    "import ultralytics\n",
    "ultralytics.checks()"
   ]
  },
  {
   "cell_type": "code",
   "execution_count": null,
   "metadata": {
    "id": "iVvaIYEEPOty"
   },
   "outputs": [],
   "source": [
    "# Git clone method (for development)\n",
    "\n",
    "# %cd {HOME}\n",
    "# !git clone github.com/ultralytics/ultralytics\n",
    "# %cd {HOME}/ultralytics\n",
    "# !pip install -qe ultralytics\n",
    "\n",
    "# from IPython import display\n",
    "# display.clear_output()\n",
    "\n",
    "# import ultralytics\n",
    "# ultralytics.checks()"
   ]
  },
  {
   "cell_type": "code",
   "execution_count": 6,
   "metadata": {
    "executionInfo": {
     "elapsed": 2,
     "status": "ok",
     "timestamp": 1680486232623,
     "user": {
      "displayName": "Freedom Tech",
      "userId": "03870511654783100627"
     },
     "user_tz": -330
    },
    "id": "VOEYrlBoP9-E"
   },
   "outputs": [],
   "source": [
    "from ultralytics import YOLO\n",
    "\n",
    "from IPython.display import display, Image"
   ]
  },
  {
   "cell_type": "markdown",
   "metadata": {
    "id": "HnnZSm5OQfPQ"
   },
   "source": [
    "## CLI Basics "
   ]
  },
  {
   "cell_type": "markdown",
   "metadata": {
    "id": "K33S7zlkQku0"
   },
   "source": [
    "If you want to train, validate or run inference on models and don't need to make any modifications to the code, using YOLO command line interface is the easiest way to get started. Read more about CLI in [Ultralytics YOLO Docs](https://v8docs.ultralytics.com/cli/).\n",
    "\n",
    "```\n",
    "yolo task=detect    mode=train    model=yolov8n.yaml      args...\n",
    "          classify       predict        yolov8n-cls.yaml  args...\n",
    "          segment        val            yolov8n-seg.yaml  args...\n",
    "                         export         yolov8n.pt        format=onnx  args...\n",
    "```"
   ]
  },
  {
   "cell_type": "markdown",
   "metadata": {
    "id": "s5RGYA6sPgEd"
   },
   "source": [
    "## Inference with Pre-trained COCO Model"
   ]
  },
  {
   "cell_type": "markdown",
   "metadata": {
    "id": "fT1qD4toTTw0"
   },
   "source": [
    "### 💻 CLI"
   ]
  },
  {
   "cell_type": "markdown",
   "metadata": {
    "id": "ZaE1kLS8R4CV"
   },
   "source": [
    "`yolo mode=predict` runs YOLOv8 inference on a variety of sources, downloading models automatically from the latest YOLOv8 release, and saving results to `runs/predict`."
   ]
  },
  {
   "cell_type": "code",
   "execution_count": 7,
   "metadata": {
    "colab": {
     "base_uri": "https://localhost:8080/"
    },
    "executionInfo": {
     "elapsed": 18219,
     "status": "ok",
     "timestamp": 1680486255682,
     "user": {
      "displayName": "Freedom Tech",
      "userId": "03870511654783100627"
     },
     "user_tz": -330
    },
    "id": "FDbMt_M6PiXb",
    "outputId": "21c73034-8024-4b69-fa5d-31355f7b5385"
   },
   "outputs": [
    {
     "name": "stdout",
     "output_type": "stream",
     "text": [
      "C:\\Users\\Akshit Garg\\Desktop\\carnumberplate\n",
      "Downloading https://github.com/ultralytics/assets/releases/download/v8.2.0/yolov8n.pt to 'yolov8n.pt'...\n",
      "Ultralytics YOLOv8.2.16 ðŸš€ Python-3.11.7 torch-2.3.0+cpu CPU (AMD Ryzen 5 5625U with Radeon Graphics)\n",
      "YOLOv8n summary (fused): 168 layers, 3151904 parameters, 0 gradients, 8.7 GFLOPs\n",
      "\n",
      "Downloading https://media.roboflow.com/notebooks/examples/dog.jpeg to 'dog.jpeg'...\n",
      "image 1/1 C:\\Users\\Akshit Garg\\Desktop\\carnumberplate\\dog.jpeg: 640x384 1 person, 1 car, 1 dog, 166.0ms\n",
      "Speed: 7.2ms preprocess, 166.0ms inference, 2304.1ms postprocess per image at shape (1, 3, 640, 384)\n",
      "Results saved to \u001b[1mC:\\Users\\Akshit Garg\\runs\\detect\\predict\u001b[0m\n",
      "ðŸ’¡ Learn more at https://docs.ultralytics.com/modes/predict\n"
     ]
    },
    {
     "name": "stderr",
     "output_type": "stream",
     "text": [
      "\n",
      "  0%|          | 0.00/6.23M [00:00<?, ?B/s]\n",
      "  2%|2         | 128k/6.23M [00:00<00:10, 585kB/s]\n",
      "  4%|4         | 256k/6.23M [00:00<00:12, 485kB/s]\n",
      "  6%|6         | 384k/6.23M [00:00<00:14, 415kB/s]\n",
      "  8%|8         | 512k/6.23M [00:01<00:27, 220kB/s]\n",
      " 10%|#         | 640k/6.23M [00:02<00:24, 243kB/s]\n",
      " 12%|#2        | 768k/6.23M [00:02<00:21, 268kB/s]\n",
      " 14%|#4        | 896k/6.23M [00:03<00:18, 297kB/s]\n",
      " 16%|#6        | 1.00M/6.23M [00:03<00:16, 335kB/s]\n",
      " 18%|#8        | 1.12M/6.23M [00:03<00:13, 387kB/s]\n",
      " 20%|##        | 1.25M/6.23M [00:03<00:11, 438kB/s]\n",
      " 22%|##2       | 1.38M/6.23M [00:04<00:10, 477kB/s]\n",
      " 24%|##4       | 1.50M/6.23M [00:04<00:09, 535kB/s]\n",
      " 26%|##6       | 1.62M/6.23M [00:04<00:08, 591kB/s]\n",
      " 28%|##8       | 1.75M/6.23M [00:04<00:07, 636kB/s]\n",
      " 30%|###       | 1.88M/6.23M [00:04<00:06, 696kB/s]\n",
      " 32%|###2      | 2.00M/6.23M [00:04<00:05, 766kB/s]\n",
      " 34%|###4      | 2.12M/6.23M [00:05<00:06, 661kB/s]\n",
      " 36%|###6      | 2.25M/6.23M [00:05<00:07, 577kB/s]\n",
      " 38%|###8      | 2.38M/6.23M [00:05<00:07, 570kB/s]\n",
      " 40%|####      | 2.50M/6.23M [00:05<00:07, 521kB/s]\n",
      " 42%|####2     | 2.62M/6.23M [00:06<00:07, 508kB/s]\n",
      " 44%|####4     | 2.75M/6.23M [00:06<00:06, 545kB/s]\n",
      " 46%|####6     | 2.88M/6.23M [00:06<00:05, 596kB/s]\n",
      " 48%|####8     | 3.00M/6.23M [00:06<00:05, 657kB/s]\n",
      " 50%|#####     | 3.12M/6.23M [00:06<00:04, 688kB/s]\n",
      " 52%|#####2    | 3.25M/6.23M [00:07<00:04, 737kB/s]\n",
      " 54%|#####4    | 3.38M/6.23M [00:07<00:03, 819kB/s]\n",
      " 56%|#####6    | 3.50M/6.23M [00:07<00:03, 829kB/s]\n",
      " 58%|#####8    | 3.62M/6.23M [00:07<00:03, 772kB/s]\n",
      " 60%|######    | 3.75M/6.23M [00:07<00:03, 823kB/s]\n",
      " 62%|######2   | 3.88M/6.23M [00:07<00:03, 783kB/s]\n",
      " 64%|######4   | 4.00M/6.23M [00:07<00:02, 873kB/s]\n",
      " 66%|######6   | 4.12M/6.23M [00:08<00:02, 900kB/s]\n",
      " 68%|######8   | 4.25M/6.23M [00:08<00:02, 967kB/s]\n",
      " 70%|#######   | 4.38M/6.23M [00:08<00:01, 1.00MB/s]\n",
      " 74%|#######4  | 4.62M/6.23M [00:08<00:01, 998kB/s] \n",
      " 76%|#######6  | 4.75M/6.23M [00:08<00:01, 830kB/s]\n",
      " 78%|#######8  | 4.88M/6.23M [00:08<00:01, 807kB/s]\n",
      " 80%|########  | 5.00M/6.23M [00:09<00:01, 831kB/s]\n",
      " 84%|########4 | 5.25M/6.23M [00:09<00:01, 927kB/s]\n",
      " 88%|########8 | 5.50M/6.23M [00:09<00:00, 1.03MB/s]\n",
      " 90%|######### | 5.62M/6.23M [00:09<00:00, 1.06MB/s]\n",
      " 92%|#########2| 5.75M/6.23M [00:09<00:00, 1.08MB/s]\n",
      " 94%|#########4| 5.88M/6.23M [00:09<00:00, 1.01MB/s]\n",
      " 96%|#########6| 6.00M/6.23M [00:10<00:00, 908kB/s] \n",
      " 98%|#########8| 6.12M/6.23M [00:10<00:00, 844kB/s]\n",
      "100%|##########| 6.23M/6.23M [00:10<00:00, 759kB/s]\n",
      "100%|##########| 6.23M/6.23M [00:10<00:00, 622kB/s]\n",
      "\n",
      "  0%|          | 0.00/104k [00:00<?, ?B/s]\n",
      "100%|##########| 104k/104k [00:00<00:00, 760kB/s]\n",
      "100%|##########| 104k/104k [00:00<00:00, 760kB/s]\n"
     ]
    }
   ],
   "source": [
    "%cd {HOME}\n",
    "!yolo task=detect mode=predict model=yolov8n.pt conf=0.25 source='https://media.roboflow.com/notebooks/examples/dog.jpeg' save=True"
   ]
  },
  {
   "cell_type": "code",
   "execution_count": 15,
   "metadata": {
    "colab": {
     "base_uri": "https://localhost:8080/"
    },
    "executionInfo": {
     "elapsed": 3279,
     "status": "ok",
     "timestamp": 1680486393731,
     "user": {
      "displayName": "Freedom Tech",
      "userId": "03870511654783100627"
     },
     "user_tz": -330
    },
    "id": "Jze57H3ayc6b",
    "outputId": "5e76ec23-0048-4610-aca6-09fb89b8d06d"
   },
   "outputs": [
    {
     "ename": "ModuleNotFoundError",
     "evalue": "No module named 'google.colab'",
     "output_type": "error",
     "traceback": [
      "\u001b[1;31m---------------------------------------------------------------------------\u001b[0m",
      "\u001b[1;31mModuleNotFoundError\u001b[0m                       Traceback (most recent call last)",
      "Cell \u001b[1;32mIn[15], line 1\u001b[0m\n\u001b[1;32m----> 1\u001b[0m \u001b[38;5;28;01mfrom\u001b[39;00m \u001b[38;5;21;01mgoogle\u001b[39;00m\u001b[38;5;21;01m.\u001b[39;00m\u001b[38;5;21;01mcolab\u001b[39;00m \u001b[38;5;28;01mimport\u001b[39;00m drive\n\u001b[0;32m      2\u001b[0m drive\u001b[38;5;241m.\u001b[39mmount(\u001b[38;5;124m'\u001b[39m\u001b[38;5;124m/content/gdrive\u001b[39m\u001b[38;5;124m'\u001b[39m)\n\u001b[0;32m      3\u001b[0m get_ipython()\u001b[38;5;241m.\u001b[39msystem(\u001b[38;5;124m'\u001b[39m\u001b[38;5;124mln -s /content/gdrive/My Drive/ /mydrive\u001b[39m\u001b[38;5;124m'\u001b[39m)\n",
      "\u001b[1;31mModuleNotFoundError\u001b[0m: No module named 'google.colab'"
     ]
    }
   ],
   "source": [
    "from google.colab import drive\n",
    "drive.mount('/content/gdrive')\n",
    "!ln -s /content/gdrive/My Drive/ /mydrive\n",
    "!ls /mydrive\n",
    "\n"
   ]
  },
  {
   "cell_type": "code",
   "execution_count": 13,
   "metadata": {
    "colab": {
     "base_uri": "https://localhost:8080/"
    },
    "executionInfo": {
     "elapsed": 3394,
     "status": "ok",
     "timestamp": 1680486423482,
     "user": {
      "displayName": "Freedom Tech",
      "userId": "03870511654783100627"
     },
     "user_tz": -330
    },
    "id": "BSd93ZJzZZKt",
    "outputId": "d168d08c-11d3-455c-b203-2d8d3a2aa647"
   },
   "outputs": [
    {
     "name": "stdout",
     "output_type": "stream",
     "text": [
      "[WinError 2] The system cannot find the file specified: 'C:\\\\Users\\\\Akshit Garg\\\\Desktop\\\\carnumberplate/datasets'\n",
      "C:\\Users\\Akshit Garg\\Desktop\\carnumberplate\n"
     ]
    },
    {
     "name": "stderr",
     "output_type": "stream",
     "text": [
      "The syntax of the command is incorrect.\n",
      "'unzip' is not recognized as an internal or external command,\n",
      "operable program or batch file.\n"
     ]
    }
   ],
   "source": [
    "!mkdir {HOME}/datasets\n",
    "%cd {HOME}/datasets\n",
    "\n",
    "!unzip /freedomtech.zip "
   ]
  },
  {
   "cell_type": "markdown",
   "metadata": {
    "id": "YUjFBKKqXa-u"
   },
   "source": [
    "## Custom Training"
   ]
  },
  {
   "cell_type": "code",
   "execution_count": 14,
   "metadata": {
    "colab": {
     "base_uri": "https://localhost:8080/"
    },
    "executionInfo": {
     "elapsed": 741711,
     "status": "ok",
     "timestamp": 1680488405529,
     "user": {
      "displayName": "Freedom Tech",
      "userId": "03870511654783100627"
     },
     "user_tz": -330
    },
    "id": "D2YkphuiaE7_",
    "outputId": "4cce49b2-f676-4b3d-cb10-0b6a2de3e476"
   },
   "outputs": [
    {
     "name": "stdout",
     "output_type": "stream",
     "text": [
      "C:\\Users\\Akshit Garg\\Desktop\\carnumberplate\n",
      "Downloading https://github.com/ultralytics/assets/releases/download/v8.2.0/yolov8s.pt to 'yolov8s.pt'...\n",
      "Ultralytics YOLOv8.2.16 ðŸš€ Python-3.11.7 torch-2.3.0+cpu CPU (AMD Ryzen 5 5625U with Radeon Graphics)\n",
      "\u001b[34m\u001b[1mengine\\trainer: \u001b[0mtask=detect, mode=train, model=yolov8s.pt, data=/content/datasets/freedomtech/data.yaml, epochs=100, time=None, patience=100, batch=16, imgsz=800, save=True, save_period=-1, cache=False, device=None, workers=8, project=None, name=train, exist_ok=False, pretrained=True, optimizer=auto, verbose=True, seed=0, deterministic=True, single_cls=False, rect=False, cos_lr=False, close_mosaic=10, resume=False, amp=True, fraction=1.0, profile=False, freeze=None, multi_scale=False, overlap_mask=True, mask_ratio=4, dropout=0.0, val=True, split=val, save_json=False, save_hybrid=False, conf=None, iou=0.7, max_det=300, half=False, dnn=False, plots=True, source=None, vid_stride=1, stream_buffer=False, visualize=False, augment=False, agnostic_nms=False, classes=None, retina_masks=False, embed=None, show=False, save_frames=False, save_txt=False, save_conf=False, save_crop=False, show_labels=True, show_conf=True, show_boxes=True, line_width=None, format=torchscript, keras=False, optimize=False, int8=False, dynamic=False, simplify=False, opset=None, workspace=4, nms=False, lr0=0.01, lrf=0.01, momentum=0.937, weight_decay=0.0005, warmup_epochs=3.0, warmup_momentum=0.8, warmup_bias_lr=0.1, box=7.5, cls=0.5, dfl=1.5, pose=12.0, kobj=1.0, label_smoothing=0.0, nbs=64, hsv_h=0.015, hsv_s=0.7, hsv_v=0.4, degrees=0.0, translate=0.1, scale=0.5, shear=0.0, perspective=0.0, flipud=0.0, fliplr=0.5, bgr=0.0, mosaic=1.0, mixup=0.0, copy_paste=0.0, auto_augment=randaugment, erasing=0.4, crop_fraction=1.0, cfg=None, tracker=botsort.yaml, save_dir=C:\\Users\\Akshit Garg\\runs\\detect\\train\n"
     ]
    },
    {
     "name": "stderr",
     "output_type": "stream",
     "text": [
      "\n",
      "  0%|          | 0.00/21.5M [00:00<?, ?B/s]\n",
      "  1%|          | 128k/21.5M [00:00<00:23, 945kB/s]\n",
      "  2%|2         | 512k/21.5M [00:00<00:09, 2.44MB/s]\n",
      "  5%|4         | 1.00M/21.5M [00:00<00:06, 3.56MB/s]\n",
      "  8%|8         | 1.75M/21.5M [00:00<00:04, 4.97MB/s]\n",
      " 12%|#1        | 2.50M/21.5M [00:00<00:03, 5.45MB/s]\n",
      " 15%|#5        | 3.25M/21.5M [00:00<00:03, 6.15MB/s]\n",
      " 18%|#8        | 3.88M/21.5M [00:00<00:02, 6.20MB/s]\n",
      " 21%|##        | 4.50M/21.5M [00:01<00:04, 3.82MB/s]\n",
      " 23%|##3       | 5.00M/21.5M [00:01<00:05, 3.00MB/s]\n",
      " 26%|##5       | 5.50M/21.5M [00:01<00:07, 2.20MB/s]\n",
      " 27%|##7       | 5.88M/21.5M [00:02<00:08, 1.86MB/s]\n",
      " 28%|##8       | 6.12M/21.5M [00:02<00:09, 1.67MB/s]\n",
      " 30%|##9       | 6.38M/21.5M [00:02<00:10, 1.54MB/s]\n",
      " 31%|###       | 6.62M/21.5M [00:02<00:11, 1.37MB/s]\n",
      " 32%|###1      | 6.88M/21.5M [00:03<00:11, 1.33MB/s]\n",
      " 33%|###3      | 7.12M/21.5M [00:03<00:11, 1.31MB/s]\n",
      " 34%|###4      | 7.38M/21.5M [00:03<00:10, 1.36MB/s]\n",
      " 35%|###5      | 7.62M/21.5M [00:03<00:11, 1.25MB/s]\n",
      " 37%|###6      | 7.88M/21.5M [00:03<00:10, 1.33MB/s]\n",
      " 38%|###7      | 8.12M/21.5M [00:04<00:11, 1.19MB/s]\n",
      " 38%|###8      | 8.25M/21.5M [00:04<00:12, 1.09MB/s]\n",
      " 39%|###9      | 8.50M/21.5M [00:04<00:12, 1.13MB/s]\n",
      " 41%|####      | 8.75M/21.5M [00:04<00:11, 1.12MB/s]\n",
      " 41%|####1     | 8.88M/21.5M [00:04<00:11, 1.13MB/s]\n",
      " 42%|####2     | 9.12M/21.5M [00:04<00:09, 1.32MB/s]\n",
      " 44%|####3     | 9.38M/21.5M [00:05<00:08, 1.44MB/s]\n",
      " 45%|####4     | 9.62M/21.5M [00:05<00:09, 1.31MB/s]\n",
      " 46%|####5     | 9.88M/21.5M [00:05<00:08, 1.41MB/s]\n",
      " 47%|####7     | 10.1M/21.5M [00:05<00:07, 1.59MB/s]\n",
      " 48%|####8     | 10.4M/21.5M [00:05<00:06, 1.70MB/s]\n",
      " 49%|####9     | 10.6M/21.5M [00:05<00:06, 1.79MB/s]\n",
      " 51%|#####     | 10.9M/21.5M [00:06<00:05, 1.91MB/s]\n",
      " 52%|#####1    | 11.1M/21.5M [00:06<00:05, 1.87MB/s]\n",
      " 53%|#####2    | 11.4M/21.5M [00:06<00:05, 1.80MB/s]\n",
      " 54%|#####4    | 11.6M/21.5M [00:06<00:05, 1.81MB/s]\n",
      " 55%|#####5    | 11.9M/21.5M [00:06<00:05, 1.96MB/s]\n",
      " 56%|#####6    | 12.1M/21.5M [00:06<00:04, 2.06MB/s]\n",
      " 57%|#####7    | 12.4M/21.5M [00:06<00:04, 2.15MB/s]\n",
      " 59%|#####8    | 12.6M/21.5M [00:06<00:04, 1.93MB/s]\n",
      " 60%|#####9    | 12.9M/21.5M [00:07<00:05, 1.79MB/s]\n",
      " 61%|######    | 13.1M/21.5M [00:07<00:04, 1.96MB/s]\n",
      " 62%|######2   | 13.4M/21.5M [00:07<00:04, 2.02MB/s]\n",
      " 63%|######3   | 13.6M/21.5M [00:07<00:04, 1.99MB/s]\n",
      " 65%|######5   | 14.0M/21.5M [00:07<00:03, 2.19MB/s]\n",
      " 67%|######6   | 14.4M/21.5M [00:07<00:03, 2.31MB/s]\n",
      " 68%|######7   | 14.6M/21.5M [00:07<00:03, 2.37MB/s]\n",
      " 69%|######9   | 14.9M/21.5M [00:08<00:03, 2.25MB/s]\n",
      " 71%|#######   | 15.2M/21.5M [00:08<00:02, 2.39MB/s]\n",
      " 72%|#######2  | 15.5M/21.5M [00:08<00:02, 2.41MB/s]\n",
      " 74%|#######3  | 15.9M/21.5M [00:08<00:02, 2.59MB/s]\n",
      " 75%|#######4  | 16.1M/21.5M [00:08<00:02, 2.59MB/s]\n",
      " 77%|#######6  | 16.5M/21.5M [00:08<00:01, 2.64MB/s]\n",
      " 78%|#######8  | 16.9M/21.5M [00:08<00:01, 2.70MB/s]\n",
      " 80%|########  | 17.2M/21.5M [00:08<00:01, 2.71MB/s]\n",
      " 82%|########1 | 17.6M/21.5M [00:09<00:01, 2.78MB/s]\n",
      " 84%|########3 | 18.0M/21.5M [00:09<00:01, 2.82MB/s]\n",
      " 85%|########5 | 18.4M/21.5M [00:09<00:01, 2.78MB/s]\n",
      " 87%|########7 | 18.8M/21.5M [00:09<00:01, 2.82MB/s]\n",
      " 89%|########8 | 19.1M/21.5M [00:09<00:00, 2.98MB/s]\n",
      " 91%|######### | 19.5M/21.5M [00:09<00:00, 3.04MB/s]\n",
      " 92%|#########2| 19.9M/21.5M [00:09<00:00, 2.62MB/s]\n",
      " 94%|#########4| 20.2M/21.5M [00:10<00:00, 2.37MB/s]\n",
      " 95%|#########5| 20.5M/21.5M [00:10<00:00, 2.24MB/s]\n",
      " 96%|#########6| 20.8M/21.5M [00:10<00:00, 2.18MB/s]\n",
      " 98%|#########8| 21.1M/21.5M [00:10<00:00, 2.49MB/s]\n",
      "100%|#########9| 21.5M/21.5M [00:10<00:00, 2.51MB/s]\n",
      "100%|##########| 21.5M/21.5M [00:10<00:00, 2.11MB/s]\n",
      "Traceback (most recent call last):\n",
      "  File \"C:\\Users\\Akshit Garg\\anaconda3\\Anaconda\\Lib\\site-packages\\ultralytics\\engine\\trainer.py\", line 517, in get_dataset\n",
      "    data = check_det_dataset(self.args.data)\n",
      "           ^^^^^^^^^^^^^^^^^^^^^^^^^^^^^^^^^\n",
      "  File \"C:\\Users\\Akshit Garg\\anaconda3\\Anaconda\\Lib\\site-packages\\ultralytics\\data\\utils.py\", line 269, in check_det_dataset\n",
      "    file = check_file(dataset)\n",
      "           ^^^^^^^^^^^^^^^^^^^\n",
      "  File \"C:\\Users\\Akshit Garg\\anaconda3\\Anaconda\\Lib\\site-packages\\ultralytics\\utils\\checks.py\", line 506, in check_file\n",
      "    raise FileNotFoundError(f\"'{file}' does not exist\")\n",
      "FileNotFoundError: '/content/datasets/freedomtech/data.yaml' does not exist\n",
      "\n",
      "The above exception was the direct cause of the following exception:\n",
      "\n",
      "Traceback (most recent call last):\n",
      "  File \"<frozen runpy>\", line 198, in _run_module_as_main\n",
      "  File \"<frozen runpy>\", line 88, in _run_code\n",
      "  File \"C:\\Users\\Akshit Garg\\anaconda3\\Anaconda\\Scripts\\yolo.exe\\__main__.py\", line 7, in <module>\n",
      "  File \"C:\\Users\\Akshit Garg\\anaconda3\\Anaconda\\Lib\\site-packages\\ultralytics\\cfg\\__init__.py\", line 583, in entrypoint\n",
      "    getattr(model, mode)(**overrides)  # default args from model\n",
      "    ^^^^^^^^^^^^^^^^^^^^^^^^^^^^^^^^^\n",
      "  File \"C:\\Users\\Akshit Garg\\anaconda3\\Anaconda\\Lib\\site-packages\\ultralytics\\engine\\model.py\", line 655, in train\n",
      "    self.trainer = (trainer or self._smart_load(\"trainer\"))(overrides=args, _callbacks=self.callbacks)\n",
      "                   ^^^^^^^^^^^^^^^^^^^^^^^^^^^^^^^^^^^^^^^^^^^^^^^^^^^^^^^^^^^^^^^^^^^^^^^^^^^^^^^^^^^\n",
      "  File \"C:\\Users\\Akshit Garg\\anaconda3\\Anaconda\\Lib\\site-packages\\ultralytics\\engine\\trainer.py\", line 130, in __init__\n",
      "    self.trainset, self.testset = self.get_dataset()\n",
      "                                  ^^^^^^^^^^^^^^^^^^\n",
      "  File \"C:\\Users\\Akshit Garg\\anaconda3\\Anaconda\\Lib\\site-packages\\ultralytics\\engine\\trainer.py\", line 521, in get_dataset\n",
      "    raise RuntimeError(emojis(f\"Dataset '{clean_url(self.args.data)}' error \\u274c {e}\")) from e\n",
      "RuntimeError: Dataset '/content/datasets/freedomtech/data.yaml' error  '/content/datasets/freedomtech/data.yaml' does not exist\n"
     ]
    }
   ],
   "source": [
    "%cd {HOME}\n",
    "\n",
    "!yolo task=detect mode=train model=yolov8s.pt data=/content/datasets/freedomtech/data.yaml epochs=100 imgsz=800 plots=True"
   ]
  },
  {
   "cell_type": "code",
   "execution_count": null,
   "metadata": {},
   "outputs": [],
   "source": []
  }
 ],
 "metadata": {
  "accelerator": "GPU",
  "colab": {
   "provenance": [
    {
     "file_id": "1XabZtpjdJayBue3Ogr7yGCDaGCjIk460",
     "timestamp": 1680488836995
    }
   ]
  },
  "gpuClass": "standard",
  "kernelspec": {
   "display_name": "Python 3 (ipykernel)",
   "language": "python",
   "name": "python3"
  },
  "language_info": {
   "codemirror_mode": {
    "name": "ipython",
    "version": 3
   },
   "file_extension": ".py",
   "mimetype": "text/x-python",
   "name": "python",
   "nbconvert_exporter": "python",
   "pygments_lexer": "ipython3",
   "version": "3.11.7"
  }
 },
 "nbformat": 4,
 "nbformat_minor": 4
}
